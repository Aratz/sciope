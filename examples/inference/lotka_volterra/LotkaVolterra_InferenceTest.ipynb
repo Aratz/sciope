{
 "cells": [
  {
   "cell_type": "markdown",
   "metadata": {},
   "source": [
    "#### Example: The Lotka-Volterra Predator-Prey model"
   ]
  },
  {
   "cell_type": "markdown",
   "metadata": {},
   "source": [
    "Imports to get the model up and running"
   ]
  },
  {
   "cell_type": "code",
   "execution_count": 1,
   "metadata": {},
   "outputs": [],
   "source": [
    "import numpy as np\n",
    "import gillespy2\n",
    "from gillespy2.solvers.stochkit import StochKitSolver"
   ]
  },
  {
   "cell_type": "markdown",
   "metadata": {},
   "source": [
    "Model definition"
   ]
  },
  {
   "cell_type": "code",
   "execution_count": 2,
   "metadata": {},
   "outputs": [],
   "source": [
    "class LotkaVolterra(gillespy2.Model):\n",
    "    def __init__(self, parameter_values=[1.0, 0.005, 0.6]):\n",
    "        # initialize Model\n",
    "        gillespy2.Model.__init__(self, name=\"Lotka-Volterra\")\n",
    "\n",
    "        # parameters\n",
    "        params = parameter_values\n",
    "        rate1 = gillespy2.Parameter(name='rate1', expression=params[0])\n",
    "        rate2 = gillespy2.Parameter(name='rate2', expression=params[1])\n",
    "        rate3 = gillespy2.Parameter(name='rate3', expression=params[2])\n",
    "        self.add_parameter([rate1, rate2, rate3])\n",
    "\n",
    "        # Species\n",
    "        A = gillespy2.Species(name='A', initial_value=50)\n",
    "        B = gillespy2.Species(name='B', initial_value=100)\n",
    "        self.add_species([A, B])\n",
    "\n",
    "        # reactions\n",
    "        r1 = gillespy2.Reaction(name=\"r1\", reactants={A: 1}, products={A: 2},\n",
    "                                rate=rate1)\n",
    "\n",
    "        r2 = gillespy2.Reaction(name=\"r2\", reactants={A: 1, B: 1}, products={B: 2},\n",
    "                                rate=rate2)\n",
    "\n",
    "        r3 = gillespy2.Reaction(name=\"r3\", reactants={B: 1}, products={},\n",
    "                                rate=rate3)\n",
    "        self.add_reaction([r1, r2, r3])\n",
    "        self.timespan(np.linspace(0, 30, 30))"
   ]
  },
  {
   "cell_type": "markdown",
   "metadata": {},
   "source": [
    "Instantiate the model and test responses"
   ]
  },
  {
   "cell_type": "code",
   "execution_count": 3,
   "metadata": {},
   "outputs": [],
   "source": [
    "model = LotkaVolterra()"
   ]
  },
  {
   "cell_type": "code",
   "execution_count": 4,
   "metadata": {},
   "outputs": [],
   "source": [
    "results = model.run(solver=StochKitSolver, show_labels=True, number_of_trajectories=1)"
   ]
  },
  {
   "cell_type": "markdown",
   "metadata": {},
   "source": [
    "Plot responses"
   ]
  },
  {
   "cell_type": "code",
   "execution_count": 5,
   "metadata": {},
   "outputs": [],
   "source": [
    "#%matplotlib\n",
    "%matplotlib inline\n",
    "import matplotlib.pyplot as plt"
   ]
  },
  {
   "cell_type": "code",
   "execution_count": 6,
   "metadata": {},
   "outputs": [
    {
     "data": {
      "text/plain": [
       "<matplotlib.legend.Legend at 0x10d5cb320>"
      ]
     },
     "execution_count": 6,
     "metadata": {},
     "output_type": "execute_result"
    },
    {
     "data": {
      "image/png": "[encoded data removed]",
      "text/plain": [
       "<Figure size 432x288 with 1 Axes>"
      ]
     },
     "metadata": {
      "needs_background": "light"
     },
     "output_type": "display_data"
    }
   ],
   "source": [
    "plt.plot(results[0]['time'], results[0]['A'],'-r', label='Prey')\n",
    "plt.plot(results[0]['time'], results[0]['B'],'-b', label='Predator')\n",
    "plt.xlabel('time')\n",
    "plt.ylabel('count')\n",
    "plt.legend(loc='best')"
   ]
  },
  {
   "cell_type": "markdown",
   "metadata": {},
   "source": [
    "Create a dataset for inference"
   ]
  },
  {
   "cell_type": "code",
   "execution_count": 7,
   "metadata": {},
   "outputs": [],
   "source": [
    "results = model.run(solver=StochKitSolver, show_labels=False, number_of_trajectories=100)\n",
    "# reshape\n",
    "fixed_data = np.asarray([x.T for x in results])\n",
    "# and remove timepoints array\n",
    "fixed_data = fixed_data[:,1:, :]"
   ]
  },
  {
   "cell_type": "markdown",
   "metadata": {},
   "source": [
    "Verify we have the data in correct dimensionality (num trajs/time series x num species x num time points/time steps)"
   ]
  },
  {
   "cell_type": "code",
   "execution_count": 8,
   "metadata": {},
   "outputs": [
    {
     "data": {
      "text/plain": [
       "(100, 2, 30)"
      ]
     },
     "execution_count": 8,
     "metadata": {},
     "output_type": "execute_result"
    }
   ],
   "source": [
    "fixed_data.shape"
   ]
  },
  {
   "cell_type": "code",
   "execution_count": 9,
   "metadata": {},
   "outputs": [],
   "source": [
    "num_timestamps = fixed_data.shape[2]"
   ]
  },
  {
   "cell_type": "markdown",
   "metadata": {},
   "source": [
    "Set up a dask cluster (or use multiprocessing)"
   ]
  },
  {
   "cell_type": "code",
   "execution_count": 10,
   "metadata": {},
   "outputs": [],
   "source": [
    "#from dask.distributed import Client"
   ]
  },
  {
   "cell_type": "code",
   "execution_count": 11,
   "metadata": {},
   "outputs": [],
   "source": [
    "#c = Client()"
   ]
  },
  {
   "cell_type": "code",
   "execution_count": 12,
   "metadata": {},
   "outputs": [],
   "source": [
    "#c"
   ]
  },
  {
   "cell_type": "markdown",
   "metadata": {},
   "source": [
    "Imports for inference"
   ]
  },
  {
   "cell_type": "code",
   "execution_count": 13,
   "metadata": {},
   "outputs": [],
   "source": [
    "from sciope.utilities.priors import uniform_prior\n",
    "from sciope.inference import abc_inference\n",
    "from sklearn.metrics import mean_absolute_error\n",
    "from sciope.utilities.summarystats import auto_tsfresh\n",
    "from sciope.utilities.distancefunctions import naive_squared\n",
    "from tsfresh.feature_extraction.settings import MinimalFCParameters"
   ]
  },
  {
   "cell_type": "markdown",
   "metadata": {},
   "source": [
    "Define a simulator to be used as part of the inference task"
   ]
  },
  {
   "cell_type": "code",
   "execution_count": 14,
   "metadata": {},
   "outputs": [],
   "source": [
    "# simulator\n",
    "def sim_lv(param):\n",
    "    lv_model = LotkaVolterra(parameter_values=param)\n",
    "    sim_results = model.run(solver=StochKitSolver, show_labels=False, number_of_trajectories=1)\n",
    "    tot_res = np.asarray([x.T for x in sim_results]) # reshape to (N, S, T)  \n",
    "    tot_res = tot_res[:,1:, :] # should not contain timepoints\n",
    "    tot_res = tot_res.reshape((1, 2, num_timestamps))\n",
    "    return tot_res"
   ]
  },
  {
   "cell_type": "markdown",
   "metadata": {},
   "source": [
    "Set up inference objects"
   ]
  },
  {
   "cell_type": "code",
   "execution_count": 15,
   "metadata": {},
   "outputs": [],
   "source": [
    "dmin = [0.7, 0.001, 0.5]\n",
    "dmax = [1.2, 0.005, 0.8]\n",
    "lv_prior = uniform_prior.UniformPrior(np.asarray(dmin), np.asarray(dmax))"
   ]
  },
  {
   "cell_type": "code",
   "execution_count": 16,
   "metadata": {},
   "outputs": [],
   "source": [
    "# summary statistics \n",
    "summ_func = auto_tsfresh.SummariesTSFRESH(corrcoef=True)\n",
    "\n",
    "# distance function\n",
    "ns = naive_squared.NaiveSquaredDistance()"
   ]
  },
  {
   "cell_type": "code",
   "execution_count": 17,
   "metadata": {},
   "outputs": [],
   "source": [
    "abc_instance = abc_inference.ABC(fixed_data, sim_lv, epsilon=0.005, prior_function=lv_prior, \n",
    "                                 summaries_function=summ_func.compute, distance_function=ns)"
   ]
  },
  {
   "cell_type": "code",
   "execution_count": 18,
   "metadata": {},
   "outputs": [],
   "source": [
    "abc_instance.compute_fixed_mean(chunk_size=2)"
   ]
  },
  {
   "cell_type": "markdown",
   "metadata": {},
   "source": [
    "Perform inference"
   ]
  },
  {
   "cell_type": "code",
   "execution_count": 19,
   "metadata": {},
   "outputs": [],
   "source": [
    "abc_results = abc_instance.infer(num_samples=50, batch_size=10, chunk_size=2)"
   ]
  },
  {
   "cell_type": "code",
   "execution_count": 20,
   "metadata": {},
   "outputs": [
    {
     "data": {
      "text/plain": [
       "{'accepted_count': 50,\n",
       " 'accepted_samples': [array([1.06736161, 0.00339261, 0.59223305]),\n",
       "  array([1.1956943 , 0.00247776, 0.75699585]),\n",
       "  array([0.9225631 , 0.00159232, 0.55707817]),\n",
       "  array([1.08507793, 0.00412532, 0.58061342]),\n",
       "  array([1.07954557, 0.00251019, 0.78542656]),\n",
       "  array([0.95270868, 0.00278082, 0.65309163]),\n",
       "  array([0.93758079, 0.00411494, 0.77033663]),\n",
       "  array([1.03791646, 0.00194151, 0.51534245]),\n",
       "  array([1.08419797, 0.0023436 , 0.70222973]),\n",
       "  array([0.83372882, 0.00256858, 0.66613492]),\n",
       "  array([0.71516727, 0.00393198, 0.79323961]),\n",
       "  array([1.06651046, 0.00477834, 0.64985035]),\n",
       "  array([1.00263327, 0.00219175, 0.69979363]),\n",
       "  array([0.82216955, 0.00144944, 0.69264316]),\n",
       "  array([1.04588007, 0.00232506, 0.74040126]),\n",
       "  array([0.87895632, 0.00129169, 0.64404747]),\n",
       "  array([1.01178058, 0.00225713, 0.56233686]),\n",
       "  array([0.76343247, 0.00232591, 0.57955008]),\n",
       "  array([0.76990314, 0.0011222 , 0.66540058]),\n",
       "  array([1.0918517 , 0.00395498, 0.50083125]),\n",
       "  array([0.88018358, 0.00253685, 0.57471331]),\n",
       "  array([1.18285516, 0.00440826, 0.57240372]),\n",
       "  array([0.93488814, 0.00499366, 0.74945879]),\n",
       "  array([1.12635586, 0.00493591, 0.54425873]),\n",
       "  array([0.82303467, 0.00236489, 0.54982871]),\n",
       "  array([1.16661532, 0.00120363, 0.59680358]),\n",
       "  array([0.84473373, 0.0031774 , 0.50775332]),\n",
       "  array([1.04480551, 0.00106923, 0.54543979]),\n",
       "  array([0.99801351, 0.00248197, 0.59510045]),\n",
       "  array([1.15558464, 0.00271493, 0.73880541]),\n",
       "  array([0.7599714 , 0.00483538, 0.5864578 ]),\n",
       "  array([1.04146122, 0.00456138, 0.66665542]),\n",
       "  array([1.16840457, 0.00294264, 0.79955051]),\n",
       "  array([0.839472  , 0.00254768, 0.67341726]),\n",
       "  array([0.85724231, 0.00137259, 0.76927919]),\n",
       "  array([0.95334607, 0.00412694, 0.56570972]),\n",
       "  array([1.17277457, 0.0045715 , 0.77012523]),\n",
       "  array([0.88038156, 0.00494101, 0.51340397]),\n",
       "  array([0.97739892, 0.00248761, 0.76891736]),\n",
       "  array([0.96909248, 0.00202854, 0.66096955]),\n",
       "  array([0.82480598, 0.00192611, 0.52877735]),\n",
       "  array([1.05642806, 0.00492581, 0.7361762 ]),\n",
       "  array([1.03057381, 0.00436306, 0.66592317]),\n",
       "  array([0.88110963, 0.00242645, 0.78084908]),\n",
       "  array([1.01450122, 0.00299171, 0.56938424]),\n",
       "  array([0.99839251, 0.00122718, 0.69690687]),\n",
       "  array([1.11813455, 0.00140784, 0.75834876]),\n",
       "  array([1.17385262, 0.00486068, 0.77537737]),\n",
       "  array([0.95407046, 0.00456598, 0.76832139]),\n",
       "  array([0.96601669, 0.00194552, 0.73941381])],\n",
       " 'distances': [array([1.90353792e+05, 1.97627364e+04, 2.49640000e+00, 1.60000000e-01,\n",
       "         1.44324010e+03, 4.10150997e+01, 2.19585960e+01, 9.45074845e+05,\n",
       "         3.06916000e+01, 4.12090000e+00, 4.84000000e+00, 4.59548410e+03,\n",
       "         7.52041619e+01, 3.41017778e-02, 4.77514507e-04]),\n",
       "  array([1.37329805e+04, 1.02668976e+05, 1.19246400e+02, 1.60000000e-01,\n",
       "         1.22570010e+03, 1.55287889e+01, 1.14076640e+02, 7.28825626e+06,\n",
       "         6.97893160e+03, 1.62409000e+01, 1.02400000e+01, 3.15956410e+03,\n",
       "         2.07253954e+01, 7.75436844e+00, 7.52648017e-08]),\n",
       "  array([1.48042384e+06, 1.55201764e+04, 2.49640000e+00, 1.96000000e+00,\n",
       "         7.84560100e+02, 1.26167165e+00, 1.72446404e+01, 9.41500720e+05,\n",
       "         2.45421160e+03, 9.40900000e-01, 1.44000000e+00, 2.29441000e+01,\n",
       "         7.50944861e+01, 2.72690178e+00, 2.13589090e-04]),\n",
       "  array([1.80007249e+06, 5.12369640e+03, 2.58064000e+01, 1.60000000e-01,\n",
       "         1.02464010e+03, 2.93793590e+00, 5.69299600e+00, 1.45924886e+06,\n",
       "         8.14531600e+02, 1.20409000e+01, 1.44000000e+00, 5.35970410e+03,\n",
       "         9.47098440e-01, 9.05035111e-01, 3.26567231e-05]),\n",
       "  array([2.21566599e+04, 1.11689640e+03, 1.34096400e+02, 1.60000000e-01,\n",
       "         3.24360100e+02, 1.44253021e+01, 1.24099600e+00, 9.76919199e+04,\n",
       "         1.19990116e+04, 1.57609000e+01, 7.84000000e+00, 9.48024100e+02,\n",
       "         1.75241458e+01, 1.33322351e+01, 4.93488816e-04]),\n",
       "  array([6.12860097e+06, 1.28164000e+01, 8.52640000e+00, 1.60000000e-01,\n",
       "         8.41580100e+02, 5.23534818e+01, 1.42404444e-02, 2.75845727e+06,\n",
       "         6.45160000e+00, 9.40900000e-01, 3.24000000e+00, 4.49864100e+02,\n",
       "         4.63301441e-01, 7.16844444e-03, 9.18979236e-04]),\n",
       "  array([2.10156048e+05, 5.17926564e+04, 1.84416400e+02, 1.96000000e+00,\n",
       "         4.41420100e+02, 5.73189769e+00, 5.75473960e+01, 2.73247747e+06,\n",
       "         9.69437160e+03, 4.85809000e+01, 6.40000000e-01, 2.09672410e+03,\n",
       "         1.20873480e+02, 1.07715240e+01, 6.69611016e-04]),\n",
       "  array([1.20488362e+07, 2.11935364e+04, 1.16964000e+01, 2.56000000e+00,\n",
       "         9.60596010e+03, 1.52471733e+02, 2.35483738e+01, 8.69758639e+06,\n",
       "         3.78691600e+02, 2.20900000e-01, 6.40000000e-01, 3.15956410e+03,\n",
       "         3.02435668e+01, 4.20768444e-01, 8.56159588e-04]),\n",
       "  array([7.98439337e+04, 1.57942656e+05, 1.30416400e+02, 1.60000000e-01,\n",
       "         1.68182010e+03, 1.02007291e+01, 1.75491840e+02, 6.42750255e+05,\n",
       "         2.38578916e+04, 2.99209000e+01, 6.40000000e-01, 4.65260410e+03,\n",
       "         5.95446699e+00, 2.65087684e+01, 3.27507223e-04]),\n",
       "  array([3.33537177e+06, 1.24312656e+05, 5.32686400e+02, 1.96000000e+00,\n",
       "         4.62536010e+03, 1.63030743e+01, 1.38125174e+02, 1.63296980e+06,\n",
       "         6.01245160e+03, 4.12090000e+00, 3.24000000e+00, 3.62524410e+03,\n",
       "         5.17358849e-01, 6.68050178e+00, 6.75911342e-05]),\n",
       "  array([8.50102153e+06, 7.06496400e+02, 2.93764000e+01, 2.56000000e+00,\n",
       "         2.02590010e+03, 8.95360153e+01, 7.84996000e-01, 3.72705059e+06,\n",
       "         1.33171600e+02, 8.82090000e+00, 4.84000000e+00, 2.93872410e+03,\n",
       "         2.80630777e+00, 1.47968444e-01, 5.58539356e-04]),\n",
       "  array([4.40825493e+06, 6.17481640e+03, 2.09764000e+01, 2.56000000e+00,\n",
       "         2.51001000e+01, 2.88520573e+01, 6.86090711e+00, 8.59327768e+06,\n",
       "         9.31997160e+03, 2.20900000e-01, 6.40000000e-01, 2.22878410e+03,\n",
       "         2.95051983e+01, 1.03555240e+01, 2.64433004e-04]),\n",
       "  array([7.66249333e+05, 1.07859696e+05, 1.30416400e+02, 1.60000000e-01,\n",
       "         4.90140010e+03, 2.25088056e-01, 1.19844107e+02, 4.20236042e+06,\n",
       "         3.18773160e+03, 1.20409000e+01, 3.24000000e+00, 7.09132410e+03,\n",
       "         4.48543981e+00, 3.54192400e+00, 5.96855779e-04]),\n",
       "  array([8.36009508e+01, 5.27069764e+04, 1.11936400e+02, 3.60000000e-01,\n",
       "         1.69260100e+02, 1.95881903e+01, 5.85633071e+01, 1.22042012e+06,\n",
       "         2.39011600e+02, 9.00000000e-04, 1.02400000e+01, 6.65124100e+02,\n",
       "         8.33040299e+01, 2.65568444e-01, 9.26333900e-04]),\n",
       "  array([1.92218936e+05, 1.38250564e+04, 1.01606400e+02, 1.60000000e-01,\n",
       "         4.88601000e+01, 6.17711963e+00, 1.53611738e+01, 7.00628925e+06,\n",
       "         5.08051600e+02, 3.56409000e+01, 4.84000000e+00, 1.16424100e+02,\n",
       "         2.05065014e+02, 5.64501778e-01, 5.60489190e-04]),\n",
       "  array([2.01612869e+06, 2.70865764e+04, 8.52640000e+00, 3.60000000e-01,\n",
       "         1.93688010e+03, 4.35007673e+00, 3.00961960e+01, 4.39342725e+03,\n",
       "         1.31010916e+04, 2.05209000e+01, 3.24000000e+00, 1.39004100e+02,\n",
       "         3.05112106e+01, 1.45567684e+01, 9.92871442e-05]),\n",
       "  array([9.44121080e+04, 2.66049640e+03, 1.98246400e+02, 1.60000000e-01,\n",
       "         1.44240100e+02, 3.40445564e+01, 2.95610711e+00, 1.36585876e+06,\n",
       "         8.94916000e+01, 4.12090000e+00, 1.02400000e+01, 1.01060410e+03,\n",
       "         8.73511988e+01, 9.94351111e-02, 7.55602251e-04]),\n",
       "  array([1.08234714e+07, 9.35136400e+02, 3.50464000e+01, 1.60000000e-01,\n",
       "         5.93054010e+03, 1.29889591e+02, 1.03904044e+00, 1.64686388e+07,\n",
       "         1.94714116e+04, 7.17409000e+01, 4.00000000e-02, 2.04394410e+03,\n",
       "         9.59192747e+01, 2.16349018e+01, 1.55181228e-05]),\n",
       "  array([2.21478547e+06, 2.51422016e+05, 3.50464000e+01, 1.60000000e-01,\n",
       "         3.23640100e+02, 1.19793100e+02, 2.79357796e+02, 9.89375337e+06,\n",
       "         1.64349160e+03, 6.10090000e+00, 4.00000000e-02, 5.07086410e+03,\n",
       "         3.90517748e+01, 1.82610178e+00, 2.54849457e-04]),\n",
       "  array([9.60783715e+06, 4.77772164e+04, 1.71086400e+02, 3.60000000e-01,\n",
       "         4.49034010e+03, 1.08339642e+02, 5.30857960e+01, 7.31814527e+06,\n",
       "         2.06116000e+01, 9.40900000e-01, 4.84000000e+00, 9.06494410e+03,\n",
       "         2.09162622e+01, 2.29017778e-02, 1.46681801e-04]),\n",
       "  array([2.15615294e+06, 1.52324964e+04, 8.87364000e+01, 1.96000000e+00,\n",
       "         1.68182010e+03, 5.36680462e+00, 1.69249960e+01, 3.24317822e+06,\n",
       "         2.35613160e+03, 2.99209000e+01, 7.84000000e+00, 1.69826410e+03,\n",
       "         1.43065971e+00, 2.61792400e+00, 6.28624558e-04]),\n",
       "  array([4.96665697e+04, 4.46984164e+04, 3.03456400e+02, 1.96000000e+00,\n",
       "         1.29672010e+03, 2.98187112e+01, 4.96649071e+01, 3.27329736e+05,\n",
       "         2.70470916e+04, 1.57609000e+01, 6.40000000e-01, 3.53064100e+02,\n",
       "         5.31476066e+01, 3.00523240e+01, 9.24411146e-05]),\n",
       "  array([1.29824499e+07, 2.74785640e+03, 1.42086400e+02, 3.60000000e-01,\n",
       "         1.10271001e+04, 1.70211378e+02, 3.05317378e+00, 1.91977794e+07,\n",
       "         6.63573160e+03, 4.85809000e+01, 3.24000000e+00, 6.11680410e+03,\n",
       "         1.22626257e+02, 7.37303511e+00, 7.22379086e-05]),\n",
       "  array([2.66360178e+06, 8.66831364e+04, 5.48496400e+02, 3.60000000e-01,\n",
       "         2.50100010e+03, 9.61078439e+00, 9.63145960e+01, 1.11880614e+07,\n",
       "         1.45298916e+04, 1.62409000e+01, 1.44000000e+00, 2.22878410e+03,\n",
       "         4.92152728e+01, 1.61443240e+01, 2.74697592e-04]),\n",
       "  array([2.19909100e+03, 1.38250564e+04, 6.40000000e-03, 1.96000000e+00,\n",
       "         4.04010000e+00, 1.81183507e+01, 1.53611738e+01, 2.74393571e+06,\n",
       "         2.96589160e+03, 3.88090000e+00, 4.84000000e+00, 1.50466410e+03,\n",
       "         1.21131217e+02, 3.29543511e+00, 4.22627986e-04]),\n",
       "  array([6.48035666e+06, 8.74976400e+02, 2.42064000e+01, 1.96000000e+00,\n",
       "         6.41601000e+01, 5.75584305e+01, 9.72196000e-01, 4.85813204e+06,\n",
       "         6.52291600e+02, 2.34090000e+00, 4.00000000e-02, 4.74804100e+02,\n",
       "         7.24432306e+00, 7.24768444e-01, 2.55993078e-05]),\n",
       "  array([2.51610453e+06, 2.15481640e+03, 5.85640000e+00, 3.60000000e-01,\n",
       "         4.62536010e+03, 8.29520114e+00, 2.39424044e+00, 1.09259077e+04,\n",
       "         4.60531600e+02, 3.56409000e+01, 4.84000000e+00, 5.65654410e+03,\n",
       "         2.42281180e+01, 5.11701778e-01, 5.14686853e-04]),\n",
       "  array([8.99780027e+06, 2.76465640e+03, 2.93764000e+01, 1.96000000e+00,\n",
       "         3.84524010e+03, 9.78737005e+01, 3.07184044e+00, 1.16331728e+07,\n",
       "         1.83331600e+02, 6.40090000e+00, 4.84000000e+00, 3.38840410e+03,\n",
       "         5.28457676e+01, 2.03701778e-01, 1.22412627e-03]),\n",
       "  array([4.71601073e+06, 4.81451364e+04, 2.69616400e+02, 2.56000000e+00,\n",
       "         4.09728010e+03, 3.27867650e+01, 5.34945960e+01, 1.95442719e+07,\n",
       "         2.45421160e+03, 5.58009000e+01, 3.24000000e+00, 4.25234410e+03,\n",
       "         1.26120924e+02, 2.72690178e+00, 2.62193306e-04]),\n",
       "  array([6.03212872e+05, 4.41161640e+03, 6.65640000e+00, 1.60000000e-01,\n",
       "         3.23640100e+02, 8.68468886e-01, 4.90179600e+00, 2.63074473e+06,\n",
       "         1.03103716e+04, 2.20900000e-01, 1.44400000e+01, 4.88410000e+00,\n",
       "         2.89229531e-01, 1.14559684e+01, 1.81662757e-04]),\n",
       "  array([3.88823195e+06, 2.38949764e+04, 8.24464000e+01, 3.60000000e-01,\n",
       "         8.41580100e+02, 2.25237397e+01, 2.65499738e+01, 4.57228583e+06,\n",
       "         2.37160000e+00, 4.12090000e+00, 1.44400000e+01, 1.86710410e+03,\n",
       "         5.98422527e+00, 2.63511111e-03, 1.75740082e-05]),\n",
       "  array([1.24650502e+07, 1.11471364e+04, 6.40000000e-03, 1.96000000e+00,\n",
       "         4.84440100e+02, 1.60325175e+02, 1.23857071e+01, 8.17709839e+06,\n",
       "         9.31997160e+03, 3.63609000e+01, 1.44000000e+00, 9.12644100e+02,\n",
       "         2.66106547e+01, 1.03555240e+01, 4.21486254e-04]),\n",
       "  array([2.68884937e+06, 1.12506576e+05, 2.53446400e+02, 2.56000000e+00,\n",
       "         7.22670010e+03, 9.84209883e+00, 1.25007307e+02, 1.33220649e+07,\n",
       "         6.48211600e+02, 1.62409000e+01, 7.84000000e+00, 8.68810410e+03,\n",
       "         6.71807752e+01, 7.20235111e-01, 5.40217010e-04]),\n",
       "  array([7.71008770e+06, 4.64057764e+04, 1.54256400e+02, 3.60000000e-01,\n",
       "         3.60120010e+03, 7.66289183e+01, 5.15619738e+01, 3.87600511e+07,\n",
       "         1.94714116e+04, 1.57609000e+01, 4.00000000e-02, 1.10691441e+04,\n",
       "         3.47357291e+02, 2.16349018e+01, 1.09300752e-04]),\n",
       "  array([6.02599383e+06, 2.06497536e+05, 5.74564000e+01, 3.60000000e-01,\n",
       "         9.80100000e-01, 2.24057741e+02, 2.29441707e+02, 5.51636894e+05,\n",
       "         8.00309160e+03, 1.99809000e+01, 1.44000000e+00, 4.65260410e+03,\n",
       "         7.03263696e+00, 8.89232400e+00, 2.14550469e-04]),\n",
       "  array([5.47774358e+05, 1.61138016e+05, 3.21126400e+02, 1.96000000e+00,\n",
       "         2.91708010e+03, 1.21188707e+00, 1.79042240e+02, 2.18413705e+06,\n",
       "         1.15476516e+04, 9.18090000e+00, 3.24000000e+00, 4.51718410e+03,\n",
       "         1.00528438e-04, 1.28307240e+01, 4.12421548e-04]),\n",
       "  array([1.90336060e+06, 2.20284964e+04, 1.42086400e+02, 1.96000000e+00,\n",
       "         1.43760100e+02, 3.58789870e+00, 2.44761071e+01, 6.51179707e+05,\n",
       "         8.72611600e+02, 1.57609000e+01, 4.00000000e-02, 5.01122410e+03,\n",
       "         5.86296213e+00, 9.69568444e-01, 6.56983413e-04]),\n",
       "  array([5.93709526e+06, 1.61138016e+05, 2.93764000e+01, 3.60000000e-01,\n",
       "         8.11801000e+01, 2.21835028e+02, 1.79042240e+02, 1.17547605e+06,\n",
       "         9.89731600e+02, 2.80900000e-01, 4.84000000e+00, 3.38840410e+03,\n",
       "         2.02167970e+00, 1.09970178e+00, 8.17560760e-06]),\n",
       "  array([6.81479638e+05, 1.23496016e+05, 4.80486400e+02, 2.56000000e+00,\n",
       "         5.28540100e+02, 4.98026863e-01, 1.37217796e+02, 4.48503147e+06,\n",
       "         2.91600000e-01, 2.47009000e+01, 3.24000000e+00, 6.24100000e-01,\n",
       "         5.61678114e+00, 3.24000000e-04, 8.01881073e-05]),\n",
       "  array([3.80037610e+04, 6.99179364e+04, 3.50464000e+01, 1.96000000e+00,\n",
       "         1.68740100e+02, 2.84798235e+01, 7.76865960e+01, 5.22316164e+06,\n",
       "         1.03103716e+04, 2.34090000e+00, 7.84000000e+00, 4.88410000e+00,\n",
       "         8.97053603e+00, 1.14559684e+01, 3.84426519e-04]),\n",
       "  array([5.54002912e+06, 3.40378896e+05, 2.37776400e+02, 3.60000000e-01,\n",
       "         4.40580100e+02, 2.11821516e+02, 3.78198774e+02, 2.98454556e+06,\n",
       "         8.92269160e+03, 9.40900000e-01, 1.44000000e+00, 1.03748410e+03,\n",
       "         8.57541805e-01, 9.91410178e+00, 1.03016881e-03]),\n",
       "  array([8.91794782e+05, 3.38049216e+05, 9.84064000e+01, 3.60000000e-01,\n",
       "         1.76316010e+03, 7.42974078e+01, 3.75610240e+02, 8.95210629e+06,\n",
       "         1.78115716e+04, 2.20900000e-01, 3.24000000e+00, 2.42162410e+03,\n",
       "         3.20661210e+01, 1.97906351e+01, 4.04082266e-04]),\n",
       "  array([2.62425967e+06, 1.07288164e+04, 1.66464000e+01, 3.60000000e-01,\n",
       "         1.60080010e+03, 9.25384022e+00, 1.19209071e+01, 3.35897985e+05,\n",
       "         1.11091600e+02, 1.20409000e+01, 4.00000000e-02, 5.50712410e+03,\n",
       "         1.04705230e+01, 1.23435111e-01, 7.05136414e-08]),\n",
       "  array([6.40156895e+06, 1.66806896e+05, 6.52864000e+01, 3.60000000e-01,\n",
       "         1.59920010e+03, 2.33375431e+02, 1.85340996e+02, 2.95692328e+04,\n",
       "         3.29567716e+04, 4.18609000e+01, 7.84000000e+00, 4.12292410e+03,\n",
       "         2.19403721e+01, 3.66186351e+01, 3.13764276e-04]),\n",
       "  array([2.07209634e+06, 2.24865640e+03, 9.84064000e+01, 2.56000000e+00,\n",
       "         1.21220100e+02, 4.74746376e+00, 2.49850711e+00, 4.07800490e+06,\n",
       "         2.14739716e+04, 4.18609000e+01, 3.24000000e+00, 5.80796410e+03,\n",
       "         4.01784769e+00, 2.38599684e+01, 4.66328706e-04]),\n",
       "  array([7.54812141e+06, 1.48841640e+03, 2.42064000e+01, 1.96000000e+00,\n",
       "         9.80298010e+03, 7.40448080e+01, 1.65379600e+00, 1.00323831e+07,\n",
       "         3.91125160e+03, 1.62409000e+01, 4.00000000e-02, 1.69826410e+03,\n",
       "         4.01106364e+01, 4.34583511e+00, 3.28874333e-05]),\n",
       "  array([5.20664900e+05, 2.90975364e+04, 1.45926400e+02, 1.60000000e-01,\n",
       "         3.96010000e+00, 1.40774116e+00, 3.23305960e+01, 2.39869058e+04,\n",
       "         5.04451600e+02, 3.88090000e+00, 6.40000000e-01, 4.32224100e+02,\n",
       "         2.25094899e+01, 5.60501778e-01, 2.82989676e-04]),\n",
       "  array([3.36962732e+06, 9.13553640e+03, 2.09764000e+01, 1.60000000e-01,\n",
       "         1.60080010e+03, 1.66714902e+01, 1.01505960e+01, 2.91324726e+06,\n",
       "         3.78717160e+03, 6.40090000e+00, 1.02400000e+01, 1.74504100e+02,\n",
       "         7.21894571e-01, 4.20796844e+00, 1.68348837e-04]),\n",
       "  array([1.14112520e+07, 5.71233640e+03, 4.32640000e+00, 3.60000000e-01,\n",
       "         7.74576010e+03, 1.40618908e+02, 6.34704044e+00, 2.32424841e+07,\n",
       "         2.94259716e+04, 2.16090000e+00, 3.24000000e+00, 9.84262410e+03,\n",
       "         1.64721631e+02, 3.26955240e+01, 5.84177705e-04]),\n",
       "  array([9.24872186e+06, 8.20473640e+03, 1.16640000e+00, 3.60000000e-01,\n",
       "         1.52178010e+03, 1.02148993e+02, 9.11637378e+00, 1.76677343e+07,\n",
       "         4.97589160e+03, 2.34090000e+00, 7.84000000e+00, 6.11680410e+03,\n",
       "         1.07468153e+02, 5.52876844e+00, 9.91120996e-04])],\n",
       " 'inferred_parameters': array([0.98318322, 0.00296837, 0.65752213]),\n",
       " 'trial_count': 19110}"
      ]
     },
     "execution_count": 20,
     "metadata": {},
     "output_type": "execute_result"
    }
   ],
   "source": [
    "abc_results"
   ]
  },
  {
   "cell_type": "markdown",
   "metadata": {},
   "source": [
    "Analyse results, plot the inferred response"
   ]
  },
  {
   "cell_type": "code",
   "execution_count": 21,
   "metadata": {},
   "outputs": [
    {
     "data": {
      "text/plain": [
       "<matplotlib.legend.Legend at 0x114095d30>"
      ]
     },
     "execution_count": 21,
     "metadata": {},
     "output_type": "execute_result"
    },
    {
     "data": {
      "image/png": "[encoded data removed]",
      "text/plain": [
       "<Figure size 432x288 with 1 Axes>"
      ]
     },
     "metadata": {
      "needs_background": "light"
     },
     "output_type": "display_data"
    }
   ],
   "source": [
    "test_model = LotkaVolterra(parameter_values=abc_results['inferred_parameters'])\n",
    "test_res = test_model.run(solver=StochKitSolver, show_labels=True)\n",
    "plt.plot(test_res[0]['time'], test_res[0]['A'],'-r', label='Prey')\n",
    "plt.plot(test_res[0]['time'], test_res[0]['B'],'-b', label='Predator')\n",
    "plt.xlabel('time')\n",
    "plt.ylabel('count')\n",
    "plt.legend(loc='best')"
   ]
  },
  {
   "cell_type": "markdown",
   "metadata": {},
   "source": [
    "Calculate error metrics w.r.t. inferred parameters"
   ]
  },
  {
   "cell_type": "code",
   "execution_count": 22,
   "metadata": {},
   "outputs": [],
   "source": [
    "def mean_absolute_percentage_error(y_true, y_pred): \n",
    "    y_true = np.array(y_true)\n",
    "    y_pred = np.array(y_pred)\n",
    "    return np.mean(np.abs((y_true - y_pred) / y_true)) * 100"
   ]
  },
  {
   "cell_type": "code",
   "execution_count": 23,
   "metadata": {},
   "outputs": [
    {
     "name": "stdout",
     "output_type": "stream",
     "text": [
      "Mean Absolute Error (MAE) in inferred parameters = 0.02545684936395738\n",
      "Mean Absolute Percentage Error (MAPE) in inferred parameters = 17.3004345480034\n"
     ]
    }
   ],
   "source": [
    "true_params = np.asarray([1.0, 0.005, 0.6])\n",
    "print('Mean Absolute Error (MAE) in inferred parameters =', mean_absolute_error(true_params, np.asarray(abc_results['inferred_parameters'])))\n",
    "print('Mean Absolute Percentage Error (MAPE) in inferred parameters =', mean_absolute_percentage_error(true_params, np.asarray(abc_results['inferred_parameters'])))\n"
   ]
  },
  {
   "cell_type": "markdown",
   "metadata": {},
   "source": [
    "Calculate error metrics w.r.t. responses"
   ]
  },
  {
   "cell_type": "code",
   "execution_count": 24,
   "metadata": {},
   "outputs": [
    {
     "name": "stdout",
     "output_type": "stream",
     "text": [
      "MAE w.r.t. responses = 587.7511928125862\n",
      "MAPE w.r.t. responses = 28.66551535494632\n"
     ]
    }
   ],
   "source": [
    "# simulate a trajectory at the true parameter point\n",
    "# and get the summary stats\n",
    "sim_true = sim_lv(true_params)\n",
    "sim_inf = sim_lv(abc_results['inferred_parameters'])\n",
    "sum_stats_true = summ_func.compute(sim_true)\n",
    "sum_stats_inf = summ_func.compute(sim_inf)\n",
    "\n",
    "\n",
    "# calculate MAE and MAPE\n",
    "mae_response = mean_absolute_error(sum_stats_true, sum_stats_inf)\n",
    "mape_response = mean_absolute_percentage_error(sum_stats_true, sum_stats_inf)\n",
    "\n",
    "print('MAE w.r.t. responses =', mae_response)\n",
    "print('MAPE w.r.t. responses =', mape_response)"
   ]
  },
  {
   "cell_type": "code",
   "execution_count": null,
   "metadata": {},
   "outputs": [],
   "source": []
  }
 ],
 "metadata": {
  "kernelspec": {
   "display_name": "Python 3",
   "language": "python",
   "name": "python3"
  },
  "language_info": {
   "codemirror_mode": {
    "name": "ipython",
    "version": 3
   },
   "file_extension": ".py",
   "mimetype": "text/x-python",
   "name": "python",
   "nbconvert_exporter": "python",
   "pygments_lexer": "ipython3",
   "version": "3.5.7"
  }
 },
 "nbformat": 4,
 "nbformat_minor": 2
}
