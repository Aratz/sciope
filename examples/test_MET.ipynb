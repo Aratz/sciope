{
 "cells": [
  {
   "cell_type": "code",
   "execution_count": 31,
   "metadata": {},
   "outputs": [
    {
     "name": "stdout",
     "output_type": "stream",
     "text": [
      "The autoreload extension is already loaded. To reload it, use:\n",
      "  %reload_ext autoreload\n"
     ]
    }
   ],
   "source": [
    "%matplotlib notebook\n",
    "%load_ext autoreload\n",
    "%autoreload 2\n",
    "\n",
    "sys.path.append(\"../mio/features\")\n",
    "sys.path.append(\"../mio/utilities/\")\n",
    "sys.path.append(\"../mio/utilities/summarystats\")\n",
    "sys.path.append(\"../mio/data\")\n",
    "sys.path.append(\"../mio/designs\")\n",
    "from mio.visualize import interactive_scatter\n",
    "from mio.data.dataset import DataSet\n",
    "from gillespy2.solvers.cpp import SSACSolver\n",
    "from gillespy2.solvers.stochkit import StochKitSolver\n",
    "import gillespy2\n",
    "import numpy as np"
   ]
  },
  {
   "cell_type": "code",
   "execution_count": 7,
   "metadata": {},
   "outputs": [],
   "source": [
    "model_doc = gillespy2.StochMLDocument.from_file(\"/home/wrede/windows_projects/psa/psa/examples/vilar_oscillator.xml\")"
   ]
  },
  {
   "cell_type": "code",
   "execution_count": 8,
   "metadata": {},
   "outputs": [],
   "source": [
    "model = model_doc.to_model(\"Vilar\")"
   ]
  },
  {
   "cell_type": "code",
   "execution_count": 34,
   "metadata": {},
   "outputs": [],
   "source": [
    "def set_model_parameters(model, params):\n",
    "    \"\"\" params - array, needs to have the same order as model.listOfParameters \"\"\"\n",
    "    for e, (pname, p) in enumerate(model.listOfParameters.items()):\n",
    "        model.get_parameter(pname).set_expression(params[e])\n",
    "    return model\n",
    "\n",
    "\n",
    "def simulator(param):\n",
    "    \n",
    "    model = set_model_parameters(model, param)\n",
    "    num_timepoints = 400\n",
    "    model.tspan = np.linspace(0, 400, num_timepoints)\n",
    "    num_trajectories = 10\n",
    "    res = model.run(solver=StochKitSolver, show_labels=False, number_of_trajectories=num_trajectories)\n",
    "    \n",
    "    return np.array(res)\n",
    "    \n",
    "    "
   ]
  },
  {
   "cell_type": "code",
   "execution_count": 29,
   "metadata": {},
   "outputs": [],
   "source": [
    "import sys\n",
    "sys.path.append(\"../mio/features\")\n",
    "sys.path.append(\"../mio/utilities/\")\n",
    "sys.path.append(\"../mio/utilities/summarystats\")\n",
    "from summary_base import SummaryBase\n",
    "from feature_extraction import generate_tsfresh_features\n",
    "from tsfresh.feature_extraction import MinimalFCParameters\n",
    "\n",
    "\n",
    "# Class definition: SummariesEnsemble\n",
    "class SummariesTSFRESH(SummaryBase):\n",
    "    \"\"\"\n",
    "    An ensemble of different statistics from TSFRESH\n",
    "    \"\"\"\n",
    "\n",
    "    def __init__(self):\n",
    "        self.name = 'SummariesTSFRESH'\n",
    "        self.features = None\n",
    "        super(SummariesTSFRESH, self).__init__(self.name)\n",
    "\n",
    "    def compute(self, data, features=MinimalFCParameters()):\n",
    "        self.features = features\n",
    "        feature_values = generate_tsfresh_features(data, features)\n",
    "        # ToDo: Check for NaNs\n",
    "        return feature_values\n"
   ]
  },
  {
   "cell_type": "code",
   "execution_count": 239,
   "metadata": {},
   "outputs": [],
   "source": [
    "num_timepoints = 400\n",
    "model.tspan = np.linspace(0, 400, num_timepoints)\n",
    "num_trajectories = 200\n",
    "res = model.run(solver=StochKitSolver, show_labels=False, number_of_trajectories=num_trajectories)\n",
    "res = np.array(res)\n"
   ]
  },
  {
   "cell_type": "code",
   "execution_count": 240,
   "metadata": {},
   "outputs": [],
   "source": [
    "f = SummariesTSFRESH()\n",
    "data = DataSet(name='tsfresh')\n",
    "\n",
    "data.configurations['listOfParameters'] = list(model.listOfParameters.keys())\n",
    "data.configurations['listOfSpecies'] = list(model.listOfSpecies.keys())\n",
    "data.configurations['listOfSummaries'] = MinimalFCParameters()"
   ]
  },
  {
   "cell_type": "code",
   "execution_count": 241,
   "metadata": {},
   "outputs": [],
   "source": [
    "params = [[float(x.expression) for x in list(model.get_all_parameters().values())]]*len(res)\n",
    "params = np.array(params)\n",
    "labels = np.ones(len(res))*-1\n",
    "features = f.compute(res)\n",
    "\n",
    "data.set_data(inputs=params, targets=labels, time_series=res, summary_stats=features) "
   ]
  },
  {
   "cell_type": "code",
   "execution_count": 242,
   "metadata": {},
   "outputs": [],
   "source": [
    "from sklearn.decomposition import PCA\n",
    "\n",
    "pca = PCA(n_components=2)\n",
    "pca_data = pca.fit_transform(data.s)"
   ]
  },
  {
   "cell_type": "code",
   "execution_count": null,
   "metadata": {
    "scrolled": false
   },
   "outputs": [],
   "source": [
    "interactive_scatter.interative_scatter(scatter_data=pca_data, data_class=data)"
   ]
  }
 ],
 "metadata": {
  "kernelspec": {
   "display_name": "Python 3",
   "language": "python",
   "name": "python3"
  },
  "language_info": {
   "codemirror_mode": {
    "name": "ipython",
    "version": 3
   },
   "file_extension": ".py",
   "mimetype": "text/x-python",
   "name": "python",
   "nbconvert_exporter": "python",
   "pygments_lexer": "ipython3",
   "version": "3.5.2"
  }
 },
 "nbformat": 4,
 "nbformat_minor": 2
}
